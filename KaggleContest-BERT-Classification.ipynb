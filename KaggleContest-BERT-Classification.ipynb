{
  "cells": [
    {
      "attachments": {},
      "cell_type": "markdown",
      "metadata": {
        "id": "1v9A1qE2sjQG"
      },
      "source": [
        "Kaggle Competition MATH\n",
        "\n",
        "Setting up Kaggle"
      ]
    },
    {
      "cell_type": "code",
      "execution_count": null,
      "metadata": {
        "colab": {
          "base_uri": "https://localhost:8080/",
          "height": 92,
          "resources": {
            "http://localhost:8080/nbextensions/google.colab/files.js": {
              "data": "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",
              "headers": [
                [
                  "content-type",
                  "application/javascript"
                ]
              ],
              "ok": true,
              "status": 200,
              "status_text": ""
            }
          }
        },
        "id": "dMouN6bRR4zc",
        "outputId": "a72441fd-78b2-4e24-a0d5-1c6ec8e56661"
      },
      "outputs": [
        {
          "data": {
            "text/html": [
              "\n",
              "     <input type=\"file\" id=\"files-0b239b34-e431-4f27-8ae9-8a9cad314a88\" name=\"files[]\" multiple disabled\n",
              "        style=\"border:none\" />\n",
              "     <output id=\"result-0b239b34-e431-4f27-8ae9-8a9cad314a88\">\n",
              "      Upload widget is only available when the cell has been executed in the\n",
              "      current browser session. Please rerun this cell to enable.\n",
              "      </output>\n",
              "      <script src=\"/nbextensions/google.colab/files.js\"></script> "
            ],
            "text/plain": [
              "<IPython.core.display.HTML object>"
            ]
          },
          "metadata": {},
          "output_type": "display_data"
        },
        {
          "name": "stdout",
          "output_type": "stream",
          "text": [
            "Saving kaggle.json to kaggle (1).json\n"
          ]
        },
        {
          "data": {
            "text/plain": [
              "{'kaggle.json': b'{\"username\":\"mitchellkarkheck\",\"key\":\"de03ad486e884e040f1469d76d821a7c\"}'}"
            ]
          },
          "execution_count": 1,
          "metadata": {},
          "output_type": "execute_result"
        }
      ],
      "source": [
        "!pip install -q kaggle\n",
        "from google.colab import files\n",
        "files.upload()"
      ]
    },
    {
      "cell_type": "code",
      "execution_count": null,
      "metadata": {
        "colab": {
          "base_uri": "https://localhost:8080/"
        },
        "id": "3yovOTpoSOj5",
        "outputId": "c6c4d639-fbe4-4838-8f0f-86b71562c7cd"
      },
      "outputs": [
        {
          "name": "stdout",
          "output_type": "stream",
          "text": [
            "mkdir: cannot create directory ‘/root/.kaggle’: File exists\n"
          ]
        }
      ],
      "source": [
        "!mkdir ~/.kaggle\n",
        "!cp kaggle.json ~/.kaggle/\n",
        "!chmod 600 ~/.kaggle/kaggle.json"
      ]
    },
    {
      "cell_type": "code",
      "execution_count": null,
      "metadata": {
        "colab": {
          "base_uri": "https://localhost:8080/"
        },
        "id": "sSu0RbqHTEU4",
        "outputId": "e5d532b5-e722-4159-e7ba-3daba684d867"
      },
      "outputs": [
        {
          "name": "stdout",
          "output_type": "stream",
          "text": [
            "ref                                                                       title                                               size  lastUpdated          downloadCount  voteCount  usabilityRating  \n",
            "------------------------------------------------------------------------  -------------------------------------------------  -----  -------------------  -------------  ---------  ---------------  \n",
            "datasets/piterfm/2022-ukraine-russian-war                                 2022 Ukraine Russia War                              1KB  2022-03-28 08:25:57           3148        212  1.0              \n",
            "datasets/prasertk/healthy-lifestyle-cities-report-2021                    Healthy Lifestyle Cities Report 2021                 2KB  2022-03-03 00:26:02           3182         98  1.0              \n",
            "datasets/kamilpytlak/personal-key-indicators-of-heart-disease             Personal Key Indicators of Heart Disease             3MB  2022-02-16 10:18:03           5338        112  1.0              \n",
            "datasets/vivek468/superstore-dataset-final                                Superstore Dataset                                 550KB  2022-02-17 11:33:07           4707        113  1.0              \n",
            "datasets/prasertk/homicide-suicide-rate-and-gdp                           Homicide rate, Suicide rate and GDP                265KB  2022-03-22 11:08:31            590         29  1.0              \n",
            "datasets/ankanhore545/carbon-dioxide-emissions-of-the-world               Carbon Dioxide Emissions of the World( 1990-2018)   15KB  2022-03-23 18:20:45            418         21  1.0              \n",
            "datasets/ajaypalsinghlo/world-happiness-report-2022                       world happiness report 2022                          5KB  2022-03-21 13:41:15            931         30  0.9705882        \n",
            "datasets/ramjasmaurya/exports-and-imports-of-india19972022                Exports and Imports of India(1997-2022)             89KB  2022-03-08 14:30:40           1200         31  1.0              \n",
            "datasets/kkhandekar/methane-emissions-across-the-world-19902018           Methane Emissions Around The World (1990-2018)      64KB  2022-03-21 22:27:40            438         28  1.0              \n",
            "datasets/equinxx/spotify-top-50-songs-in-2021                             Spotify top 50 songs in 2021                         4KB  2022-03-17 22:59:45           1591         46  1.0              \n",
            "datasets/timmofeyy/-pizza-prices-menu-in-13-different-pizzerias           🍕 Pizza Prices Menu in 13 Different Pizzerias       16KB  2022-03-24 11:26:46            331         20  0.9411765        \n",
            "datasets/prasertk/netflix-daily-top-10-in-us                              Netflix daily top 10                                70KB  2022-03-12 13:22:19           1430         35  1.0              \n",
            "datasets/pranalibose/amazon-seller-order-status-prediction                Amazon Seller - Order Status Prediction             23KB  2022-02-26 06:31:07           2643         69  0.88235295       \n",
            "datasets/ashishjangra27/ted-talks                                         TED Talks                                          298KB  2022-02-23 15:16:08           2844        128  1.0              \n",
            "datasets/rajatrc1705/youtube-videos-dataset                               Youtube Videos Dataset (~3400 videos)              646KB  2022-03-19 06:45:03            637         26  0.88235295       \n",
            "datasets/deepcontractor/unicorn-companies-dataset                         Unicorn Companies Dataset                           42KB  2022-03-08 10:32:01           1010         34  1.0              \n",
            "datasets/anandhuh/countries-in-the-world-by-population-2022               Countries in the World by Population 2022            7KB  2022-03-20 14:04:10            717         42  1.0              \n",
            "datasets/majyhain/height-of-male-and-female-by-country-2022               Height of Male and Female by Country 2022            4KB  2022-02-02 00:40:19           7661        201  1.0              \n",
            "datasets/vardhansiramdasu/fraudulent-transactions-prediction              Fraudulent Transactions Prediction                 178MB  2022-03-21 16:08:45            418         20  1.0              \n",
            "datasets/soumyadiptadas/students-math-score-for-different-teaching-style  Student's math score for different teaching style    2KB  2022-02-23 12:36:06           3194         64  1.0              \n"
          ]
        }
      ],
      "source": [
        "!kaggle datasets list"
      ]
    },
    {
      "cell_type": "code",
      "execution_count": null,
      "metadata": {
        "id": "WRT-ey5lTnwc"
      },
      "outputs": [],
      "source": [
        "data_path = !kaggle competitions download -c math80600a-2022w"
      ]
    },
    {
      "cell_type": "code",
      "execution_count": null,
      "metadata": {
        "colab": {
          "base_uri": "https://localhost:8080/"
        },
        "id": "ulL3JzjlT4FP",
        "outputId": "091d866b-6152-4ea3-e279-fdf88238b4ca"
      },
      "outputs": [
        {
          "name": "stdout",
          "output_type": "stream",
          "text": [
            "Requirement already satisfied: transformers in /usr/local/lib/python3.7/dist-packages (4.17.0)\n",
            "Requirement already satisfied: pyyaml>=5.1 in /usr/local/lib/python3.7/dist-packages (from transformers) (6.0)\n",
            "Requirement already satisfied: importlib-metadata in /usr/local/lib/python3.7/dist-packages (from transformers) (4.11.3)\n",
            "Requirement already satisfied: tqdm>=4.27 in /usr/local/lib/python3.7/dist-packages (from transformers) (4.63.0)\n",
            "Requirement already satisfied: packaging>=20.0 in /usr/local/lib/python3.7/dist-packages (from transformers) (21.3)\n",
            "Requirement already satisfied: filelock in /usr/local/lib/python3.7/dist-packages (from transformers) (3.6.0)\n",
            "Requirement already satisfied: huggingface-hub<1.0,>=0.1.0 in /usr/local/lib/python3.7/dist-packages (from transformers) (0.4.0)\n",
            "Requirement already satisfied: requests in /usr/local/lib/python3.7/dist-packages (from transformers) (2.23.0)\n",
            "Requirement already satisfied: sacremoses in /usr/local/lib/python3.7/dist-packages (from transformers) (0.0.49)\n",
            "Requirement already satisfied: numpy>=1.17 in /usr/local/lib/python3.7/dist-packages (from transformers) (1.21.5)\n",
            "Requirement already satisfied: tokenizers!=0.11.3,>=0.11.1 in /usr/local/lib/python3.7/dist-packages (from transformers) (0.11.6)\n",
            "Requirement already satisfied: regex!=2019.12.17 in /usr/local/lib/python3.7/dist-packages (from transformers) (2019.12.20)\n",
            "Requirement already satisfied: typing-extensions>=3.7.4.3 in /usr/local/lib/python3.7/dist-packages (from huggingface-hub<1.0,>=0.1.0->transformers) (3.10.0.2)\n",
            "Requirement already satisfied: pyparsing!=3.0.5,>=2.0.2 in /usr/local/lib/python3.7/dist-packages (from packaging>=20.0->transformers) (3.0.7)\n",
            "Requirement already satisfied: zipp>=0.5 in /usr/local/lib/python3.7/dist-packages (from importlib-metadata->transformers) (3.7.0)\n",
            "Requirement already satisfied: chardet<4,>=3.0.2 in /usr/local/lib/python3.7/dist-packages (from requests->transformers) (3.0.4)\n",
            "Requirement already satisfied: idna<3,>=2.5 in /usr/local/lib/python3.7/dist-packages (from requests->transformers) (2.10)\n",
            "Requirement already satisfied: certifi>=2017.4.17 in /usr/local/lib/python3.7/dist-packages (from requests->transformers) (2021.10.8)\n",
            "Requirement already satisfied: urllib3!=1.25.0,!=1.25.1,<1.26,>=1.21.1 in /usr/local/lib/python3.7/dist-packages (from requests->transformers) (1.24.3)\n",
            "Requirement already satisfied: click in /usr/local/lib/python3.7/dist-packages (from sacremoses->transformers) (7.1.2)\n",
            "Requirement already satisfied: joblib in /usr/local/lib/python3.7/dist-packages (from sacremoses->transformers) (1.1.0)\n",
            "Requirement already satisfied: six in /usr/local/lib/python3.7/dist-packages (from sacremoses->transformers) (1.15.0)\n",
            "Requirement already satisfied: torchtext==0.9.0 in /usr/local/lib/python3.7/dist-packages (0.9.0)\n",
            "Requirement already satisfied: requests in /usr/local/lib/python3.7/dist-packages (from torchtext==0.9.0) (2.23.0)\n",
            "Requirement already satisfied: tqdm in /usr/local/lib/python3.7/dist-packages (from torchtext==0.9.0) (4.63.0)\n",
            "Requirement already satisfied: torch==1.8.0 in /usr/local/lib/python3.7/dist-packages (from torchtext==0.9.0) (1.8.0)\n",
            "Requirement already satisfied: numpy in /usr/local/lib/python3.7/dist-packages (from torchtext==0.9.0) (1.21.5)\n",
            "Requirement already satisfied: typing-extensions in /usr/local/lib/python3.7/dist-packages (from torch==1.8.0->torchtext==0.9.0) (3.10.0.2)\n",
            "Requirement already satisfied: idna<3,>=2.5 in /usr/local/lib/python3.7/dist-packages (from requests->torchtext==0.9.0) (2.10)\n",
            "Requirement already satisfied: chardet<4,>=3.0.2 in /usr/local/lib/python3.7/dist-packages (from requests->torchtext==0.9.0) (3.0.4)\n",
            "Requirement already satisfied: urllib3!=1.25.0,!=1.25.1,<1.26,>=1.21.1 in /usr/local/lib/python3.7/dist-packages (from requests->torchtext==0.9.0) (1.24.3)\n",
            "Requirement already satisfied: certifi>=2017.4.17 in /usr/local/lib/python3.7/dist-packages (from requests->torchtext==0.9.0) (2021.10.8)\n",
            "Requirement already satisfied: numpy in /usr/local/lib/python3.7/dist-packages (1.21.5)\n",
            "Requirement already satisfied: requests in /usr/local/lib/python3.7/dist-packages (2.23.0)\n",
            "Requirement already satisfied: nlpaug in /usr/local/lib/python3.7/dist-packages (1.1.10)\n",
            "Requirement already satisfied: certifi>=2017.4.17 in /usr/local/lib/python3.7/dist-packages (from requests) (2021.10.8)\n",
            "Requirement already satisfied: chardet<4,>=3.0.2 in /usr/local/lib/python3.7/dist-packages (from requests) (3.0.4)\n",
            "Requirement already satisfied: idna<3,>=2.5 in /usr/local/lib/python3.7/dist-packages (from requests) (2.10)\n",
            "Requirement already satisfied: urllib3!=1.25.0,!=1.25.1,<1.26,>=1.21.1 in /usr/local/lib/python3.7/dist-packages (from requests) (1.24.3)\n",
            "Requirement already satisfied: pandas>=1.2.0 in /usr/local/lib/python3.7/dist-packages (from nlpaug) (1.3.5)\n",
            "Requirement already satisfied: pytz>=2017.3 in /usr/local/lib/python3.7/dist-packages (from pandas>=1.2.0->nlpaug) (2018.9)\n",
            "Requirement already satisfied: python-dateutil>=2.7.3 in /usr/local/lib/python3.7/dist-packages (from pandas>=1.2.0->nlpaug) (2.8.2)\n",
            "Requirement already satisfied: six>=1.5 in /usr/local/lib/python3.7/dist-packages (from python-dateutil>=2.7.3->pandas>=1.2.0->nlpaug) (1.15.0)\n"
          ]
        }
      ],
      "source": [
        "#installs\n",
        "!pip install transformers\n",
        "!pip install torchtext==0.9.0\n",
        "!pip install numpy requests nlpaug\n",
        "!pip install torch>=1.8.0 fairseq>=0.9.0 sacremoses>=0.0.43 fastBPE>=0.1.0"
      ]
    },
    {
      "cell_type": "code",
      "execution_count": null,
      "metadata": {
        "id": "Uun3myZAUuV2"
      },
      "outputs": [],
      "source": [
        "#imports\n",
        "import matplotlib.pyplot as plt\n",
        "import seaborn as sns\n",
        "import pandas as pd\n",
        "import numpy as np\n",
        "\n",
        "#data augmentation imports\n",
        "import nlpaug.augmenter.word as naw\n",
        "import nlpaug.augmenter.sentence as nas\n",
        "import time\n",
        "\n",
        "#sklearn imports\n",
        "from sklearn.model_selection import train_test_split\n",
        "from sklearn.metrics import accuracy_score, classification_report, confusion_matrix\n",
        "\n",
        "#torch imports\n",
        "import torch\n",
        "from torch.utils.data import random_split\n",
        "from torchtext.legacy.data import Field, TabularDataset, BucketIterator, Iterator\n",
        "from transformers import BertTokenizer, BertModel, AdamW, get_linear_schedule_with_warmup\n",
        "\n",
        "import warnings\n",
        "warnings.filterwarnings('ignore')\n",
        "\n",
        "import logging\n",
        "logging.getLogger(\"transformers.tokenization_utils_base\").setLevel(logging.ERROR)"
      ]
    },
    {
      "cell_type": "code",
      "execution_count": null,
      "metadata": {
        "colab": {
          "base_uri": "https://localhost:8080/"
        },
        "id": "7yAO3M4pXLV7",
        "outputId": "a8b9a9e5-79e2-4c05-f22c-b5cb0083b7cf"
      },
      "outputs": [
        {
          "name": "stdout",
          "output_type": "stream",
          "text": [
            "Archive:  math80600a-2022w.zip\n",
            "replace nodeid2paperid.csv? [y]es, [n]o, [A]ll, [N]one, [r]ename: y\n",
            "  inflating: nodeid2paperid.csv      \n",
            "replace sample.csv? [y]es, [n]o, [A]ll, [N]one, [r]ename: y\n",
            "  inflating: sample.csv              \n",
            "replace test.csv? [y]es, [n]o, [A]ll, [N]one, [r]ename: y\n",
            "  inflating: test.csv                \n",
            "replace text.csv? [y]es, [n]o, [A]ll, [N]one, [r]ename: y\n",
            "  inflating: text.csv                \n",
            "replace train.csv? [y]es, [n]o, [A]ll, [N]one, [r]ename: y\n",
            "  inflating: train.csv               \n"
          ]
        }
      ],
      "source": [
        "!unzip math80600a-2022w.zip"
      ]
    },
    {
      "cell_type": "code",
      "execution_count": null,
      "metadata": {
        "id": "FMURU0k2aMRp"
      },
      "outputs": [],
      "source": [
        "#data path for kaggle\n",
        "data_path = '../content/'\n",
        "output_path = './'"
      ]
    },
    {
      "cell_type": "code",
      "execution_count": null,
      "metadata": {
        "id": "oVHjpiycU5Q1"
      },
      "outputs": [],
      "source": [
        "#save data files as dataframes\n",
        "trainfile = f\"{data_path}train.csv\"\n",
        "testfile = f\"{data_path}test.csv\"\n",
        "nodeid2paperidfile = f\"{data_path}nodeid2paperid.csv\"\n",
        "textfile = f\"{data_path}text.csv\"\n",
        "\n",
        "traindf = pd.read_csv(trainfile,names=['label', 'node idx'])\n",
        "testdf = pd.read_csv(testfile,names=['node idx'])\n",
        "nodeid2paperiddf = pd.read_csv(nodeid2paperidfile)\n",
        "textdf = pd.read_csv(textfile, names=['paper id', 'title', 'abstract'])"
      ]
    },
    {
      "cell_type": "code",
      "execution_count": null,
      "metadata": {
        "id": "x2gysA3Zaq7A"
      },
      "outputs": [],
      "source": [
        "#join dataframes together\n",
        "# training\n",
        "train = pd.merge(nodeid2paperiddf ,textdf,  how = 'left', on = 'paper id')\n",
        "trainmerged = pd.merge(traindf,train,  how = 'left', on = 'node idx')\n",
        "trainmerged.drop(['node idx','paper id'], axis=1,inplace=True)\n",
        "\n",
        "# testing\n",
        "test = pd.merge(nodeid2paperiddf ,textdf,  how = 'left', on = 'paper id')\n",
        "testmerged = pd.merge(testdf,test,  how = 'left', on = 'node idx')\n",
        "testmerged.drop(['paper id'], axis=1,inplace=True)\n",
        "\n"
      ]
    },
    {
      "cell_type": "code",
      "execution_count": null,
      "metadata": {
        "id": "e13_xLr5ax-v"
      },
      "outputs": [],
      "source": [
        "#Data tokenizing for cleaning\n",
        "import re\n",
        "\n",
        "def RegexpTokenizer(text):\n",
        "    reg = text\n",
        "    reg = re.sub(' +', ' ',reg, re.MULTILINE)\n",
        "    reg = re.sub(r\"(\\$+)(?:(?!\\1)[\\s\\S])*\\1\", \"\", reg, re.MULTILINE)\n",
        "    reg = re.sub(r'\\\\url{([^}]*)}', \"\", reg, re.MULTILINE)\n",
        "    reg = re.sub(r'\\\\emph{([^}]*)}', \"\\\\1\", reg, re.MULTILINE)\n",
        "    reg = re.sub(r'\\\\textit{([^}]*)}',\"\\\\1\", reg, re.MULTILINE)\n",
        "    reg = re.sub(r'\\\\quotes{([^}]*)}',\"\\\\1\", reg, re.MULTILINE)\n",
        "    reg = re.sub(r'\\\\texttt{([^}]*)}',\"\\\\1\", reg, re.MULTILINE)\n",
        "    reg = re.sub(\"[^0-9a-zA-Z]+\",\" \",reg, re.MULTILINE)\n",
        "    reg = re.sub(' +', ' ',reg, re.MULTILINE)\n",
        "\n",
        "    return reg"
      ]
    },
    {
      "cell_type": "code",
      "execution_count": null,
      "metadata": {
        "id": "gmxU9FFsazmK"
      },
      "outputs": [],
      "source": [
        "#add fake label in the test set in order to use the evaluation function\n",
        "testmerged.insert(1,'label', 0, False)"
      ]
    },
    {
      "cell_type": "code",
      "execution_count": null,
      "metadata": {
        "id": "fCWoRIFicgNZ"
      },
      "outputs": [],
      "source": [
        "#export cleaned data\n",
        "trainmerged.to_csv(f'{output_path}traincleaned.csv', index=False)\n",
        "testmerged.to_csv(f'{output_path}testcleaned.csv', index=False)"
      ]
    },
    {
      "cell_type": "code",
      "execution_count": null,
      "metadata": {
        "id": "uIwp2NOJdzu3"
      },
      "outputs": [],
      "source": [
        "# function to augment training dataset\n",
        "def TextAugmTranslate(df, label=12, iter=1):\n",
        "  # use uncased roberta word embeddings for substitute word replacements for augmentation\n",
        "  Substitutewords = naw.context_word_embs.ContextualWordEmbsAug(model_path='roberta-base', model_type='', action='substitute', temperature=1.0, top_k=100, top_p=None,\n",
        "                                                              name='ContextualWordEmbs_Aug', aug_min=1, aug_max=10, aug_p=0.3, stopwords=None, device='cuda',\n",
        "                                                              force_reload=False, optimize=None, stopwords_regex=None, verbose=0, silence=True)\n",
        "\n",
        "  for i in range(iter):\n",
        "    start = time.time()\n",
        "    print(f\"iter {i} | init shape : {df[df['label']==label].shape} of label {label} | start time {time.asctime( time.localtime(start))}\")\n",
        "    train_aug = df[df['label']==label].copy()\n",
        "    temp = df.copy()\n",
        "\n",
        "    train_aug['title'] = train_aug['title'].apply(lambda x: Substitutewords.augment(x)) # word substitute for new titles\n",
        "    train_aug['abstract'] = train_aug['abstract'].apply(lambda x: Substitutewordsy.augment(x)) # word substitute for new abstracts\n",
        "\n",
        "    temp = pd.concat([temp,train_aug], ignore_index=True)\n",
        "    df = temp\n",
        "    end = time.time()\n",
        "\n",
        "    print(f\"new shape : {df[df['label']==label].shape} of label {label} | end time {time.asctime( time.localtime(end))}\")\n",
        "\n",
        "  return df"
      ]
    },
    {
      "cell_type": "code",
      "execution_count": null,
      "metadata": {
        "id": "eoZyAKvzd3Ho"
      },
      "outputs": [],
      "source": [
        "# load CSV with dataset\n",
        "train = pd.read_csv(f\"{output_path}traincleaned.csv\")\n",
        "test = pd.read_csv(f\"{output_path}testcleaned.csv\")"
      ]
    },
    {
      "cell_type": "code",
      "execution_count": null,
      "metadata": {
        "id": "UFw1OPoOd-2p"
      },
      "outputs": [],
      "source": [
        "# split train dataset into train, validation sets\n",
        "train, valid= train_test_split(train,random_state=80600, test_size=0.2,shuffle =True, stratify=train['label'])"
      ]
    },
    {
      "cell_type": "code",
      "execution_count": null,
      "metadata": {
        "id": "yv0hw8R2keXj"
      },
      "outputs": [],
      "source": [
        "#concatenate title and abstract\n",
        "train['LongSentence'] = train['title'] + \" \" + train['abstract']\n",
        "valid['LongSentence'] = valid['title'] + \" \" + valid['abstract']\n",
        "test['LongSentence'] = test['title'] + \" \" + test['abstract']"
      ]
    },
    {
      "cell_type": "code",
      "execution_count": null,
      "metadata": {
        "id": "B-2PW5qYkhx1"
      },
      "outputs": [],
      "source": [
        "#save preprocessed data to csv's\n",
        "train.to_csv(f\"{output_path}preptrainaug.csv\")\n",
        "valid.to_csv(f\"{output_path}prepval.csv\")\n",
        "test.to_csv(f\"{output_path}preptest.csv\")"
      ]
    },
    {
      "cell_type": "code",
      "execution_count": null,
      "metadata": {
        "colab": {
          "base_uri": "https://localhost:8080/"
        },
        "id": "Qkc3WGTXksya",
        "outputId": "1b35d4e5-4063-4b9c-d059-6fb37d54c8ad"
      },
      "outputs": [
        {
          "name": "stdout",
          "output_type": "stream",
          "text": [
            "cuda\n"
          ]
        }
      ],
      "source": [
        "#set random seed and device to GPU\n",
        "torch.manual_seed(7)\n",
        "\n",
        "if torch.cuda.is_available():\n",
        "    device = torch.device('cuda')\n",
        "    torch.backends.cudnn.deterministic = True\n",
        "    torch.backends.cudnn.benchmark = False\n",
        "else:\n",
        "    device = torch.device('cpu')\n",
        "\n",
        "print(device)"
      ]
    },
    {
      "cell_type": "code",
      "execution_count": null,
      "metadata": {
        "id": "b3k_uO97kxqc"
      },
      "outputs": [],
      "source": [
        "#download SciBERT. a BERT model trained on scientific papers and use bertTokenizer\n",
        "do_lower_case = True\n",
        "\n",
        "MODEL_NAME = 'allenai/scibert_scivocab_uncased'\n",
        "tokenizer = BertTokenizer.from_pretrained(MODEL_NAME, do_lower_case=do_lower_case)"
      ]
    },
    {
      "cell_type": "code",
      "execution_count": null,
      "metadata": {
        "id": "MOFIvru9k3h3"
      },
      "outputs": [],
      "source": [
        "#set tokenizer hyperparameters\n",
        "MAX_SEQ_LEN = 512\n",
        "BATCH_SIZE = 16\n",
        "\n",
        "PAD_INDEX = tokenizer.convert_tokens_to_ids(tokenizer.pad_token)\n",
        "UNK_INDEX = tokenizer.convert_tokens_to_ids(tokenizer.unk_token)\n",
        "\n",
        "\n",
        "# Define columns to read.\n",
        "label_field = Field(sequential=False, use_vocab=False, batch_first=True)\n",
        "text_field = Field(use_vocab=False,\n",
        "                   tokenize=tokenizer.encode,\n",
        "                   include_lengths=False,\n",
        "                   batch_first=True,\n",
        "                   fix_length=MAX_SEQ_LEN,\n",
        "                   pad_token=PAD_INDEX,\n",
        "                   unk_token=UNK_INDEX)\n",
        "\n",
        "fields = {'LongSentence' : ('LongSentence', text_field), 'label' : ('label', label_field)}\n",
        "\n",
        "#read preprocessed CSV into tabular form and split it into train, test and validation\n",
        "traindata = TabularDataset(path=f\"{output_path}/preptrainaug.csv\", format='CSV', fields=fields,\n",
        "                                                   skip_header=False)\n",
        "\n",
        "validdata = TabularDataset(path=f\"{output_path}/prepval.csv\", format='CSV', fields=fields,\n",
        "                                                   skip_header=False)\n",
        "\n",
        "testdata = TabularDataset(path=f\"{output_path}/preptest.csv\", format='CSV', fields=fields,\n",
        "                                                   skip_header=False)\n",
        "\n",
        "#create train and validation iterators\n",
        "trainiter, validiter = BucketIterator.splits((traindata, validdata),\n",
        "                                               batch_size=BATCH_SIZE,\n",
        "                                               device=device,\n",
        "                                               shuffle=True,\n",
        "                                               sort_key=lambda x: len(x.LongSentence),\n",
        "                                               sort=True,\n",
        "                                               sort_within_batch=False)\n",
        "\n",
        "#create test iterator with no shuffling/sorting\n",
        "testiter = Iterator(testdata, batch_size=BATCH_SIZE, device=device, train=False, shuffle=False, sort=False)"
      ]
    },
    {
      "cell_type": "code",
      "execution_count": null,
      "metadata": {
        "id": "tew1OML_k_TL"
      },
      "outputs": [],
      "source": [
        "#functions for saving and loading model parameters and loss metrics\n",
        "def save_checkpoint(path, model, valid_loss):\n",
        "    torch.save({'model_state_dict': model.state_dict(),\n",
        "                  'valid_loss': valid_loss}, path)\n",
        "\n",
        "def load_checkpoint(path, model):\n",
        "    state_dict = torch.load(path, map_location=device)\n",
        "    model.load_state_dict(state_dict['model_state_dict'])\n",
        "\n",
        "    return state_dict['valid_loss']\n",
        "\n",
        "def save_metrics(path, train_loss_list, valid_loss_list, global_steps_list):\n",
        "    state_dict = {'train_loss_list': train_loss_list,\n",
        "                  'valid_loss_list': valid_loss_list,\n",
        "                  'global_steps_list': global_steps_list}\n",
        "\n",
        "    torch.save(state_dict, path)\n",
        "\n",
        "def load_metrics(path):\n",
        "    state_dict = torch.load(path, map_location=device)\n",
        "    return state_dict['train_loss_list'], state_dict['valid_loss_list'], state_dict['global_steps_list']"
      ]
    },
    {
      "cell_type": "code",
      "execution_count": null,
      "metadata": {
        "id": "Va_kmOYyl06t"
      },
      "outputs": [],
      "source": [
        "# Model with 2 linear layers with dropout and normalization added on top of pretrained SciBERT from allen ai\n",
        "class SciBERTClassifier(torch.nn.Module):\n",
        "    def __init__(self, dropout_rate=0.3): #dropout rate of 0.3\n",
        "        super(SciBERTClassifier, self).__init__()\n",
        "\n",
        "        self.SciBERT = BertModel.from_pretrained('allenai/scibert_scivocab_uncased')\n",
        "        self.d1 = torch.nn.Dropout(dropout_rate)\n",
        "        self.l1 = torch.nn.Linear(768, 64) #784 in channels and 64 out\n",
        "        self.bn1 = torch.nn.LayerNorm(64)\n",
        "        self.d2 = torch.nn.Dropout(dropout_rate)\n",
        "        self.l2 = torch.nn.Linear(64, 20) # 64 in channels and 20 out\n",
        "\n",
        "    def forward(self, input_ids, attention_mask):\n",
        "        text = self.SciBERT(input_ids=input_ids, attention_mask=attention_mask)\n",
        "        text = text[1]\n",
        "        text = self.d1(text)\n",
        "        text = self.l1(text)\n",
        "        text = self.bn1(text)\n",
        "        text = torch.nn.Tanh()(text)\n",
        "        text = self.d2(text)\n",
        "        text = self.l2(text)\n",
        "        #print(text.shape)\n",
        "        return text"
      ]
    },
    {
      "cell_type": "code",
      "execution_count": null,
      "metadata": {
        "id": "fCb-N5Z3oD8a"
      },
      "outputs": [],
      "source": [
        "#define pretraining function\n",
        "def pretrain(model,\n",
        "             optimizer,\n",
        "             trainiter,\n",
        "             validiter,\n",
        "             scheduler = None,\n",
        "             valid_period = len(trainiter),\n",
        "             num_epochs = 5):\n",
        "\n",
        "    # Pretrain just linear layers\n",
        "    for param in model.SciBERT.parameters():\n",
        "        param.requires_grad = False\n",
        "\n",
        "    model.train()\n",
        "\n",
        "    # Initialize losses and loss histories\n",
        "    train_loss = 0.0\n",
        "    valid_loss = 0.0\n",
        "\n",
        "    global_step = 0\n",
        "\n",
        "    # Training loop\n",
        "    for epoch in range(num_epochs):\n",
        "        for (source, target), _ in trainiter:\n",
        "            mask = (source != PAD_INDEX).type(torch.uint8)\n",
        "\n",
        "            logits = model(input_ids=source,\n",
        "                           attention_mask=mask)\n",
        "\n",
        "            y_pred = torch.max(logits, dim=-1)[1]\n",
        "            loss = torch.nn.CrossEntropyLoss()(logits, target)\n",
        "            loss.backward()\n",
        "\n",
        "            # optimizer and scheduler step\n",
        "            optimizer.step()\n",
        "            scheduler.step()\n",
        "            optimizer.zero_grad()\n",
        "\n",
        "            # Update train loss and global step\n",
        "            train_loss += loss.item()\n",
        "            global_step += 1\n",
        "\n",
        "            # Validation loop to save progress and evaluate model performance\n",
        "            if global_step % valid_period == 0:\n",
        "                model.eval()\n",
        "\n",
        "                with torch.no_grad():\n",
        "                    for (source, target), _ in validiter:\n",
        "                        mask = (source != PAD_INDEX).type(torch.uint8)\n",
        "                        logits = model(input_ids = source,\n",
        "                                       attention_mask = mask)\n",
        "\n",
        "                        y_pred = torch.max(logits, dim =-1)[1]\n",
        "                        loss = torch.nn.CrossEntropyLoss()(logits, target)\n",
        "                        valid_loss += loss.item()\n",
        "\n",
        "                # Store train and validation loss history\n",
        "                train_loss = train_loss / valid_period\n",
        "                valid_loss = valid_loss / len(validiter)\n",
        "                model.train()\n",
        "\n",
        "                # print summary\n",
        "                print(\"Epoch [{}/{}], global step [{}/{}], PreTrain Loss: {:.4f}, Val Loss: {:.4f}\"\n",
        "                      .format(epoch+1, num_epochs, global_step, num_epochs*len(trainiter),\n",
        "                              train_loss, valid_loss))\n",
        "\n",
        "                train_loss = 0.0\n",
        "                valid_loss = 0.0\n",
        "\n",
        "    #set bert parameters back to trainable\n",
        "    for param in model.SciBERT.parameters():\n",
        "        param.requires_grad = True\n",
        "\n",
        "    print(\"Pretraining done!\")"
      ]
    },
    {
      "cell_type": "code",
      "execution_count": null,
      "metadata": {
        "id": "8b3mAPYcoJoU"
      },
      "outputs": [],
      "source": [
        "# defining the training function\n",
        "\n",
        "def train(model, optimizer, trainiter, validiter,\n",
        "                  scheduler = None,\n",
        "                  num_epochs = 5,\n",
        "                  valid_period = len(trainiter),\n",
        "                  output_path = output_path):\n",
        "\n",
        "    # Initialize losses, history and global steps\n",
        "    train_loss = 0.0\n",
        "    valid_loss = 0.0\n",
        "    train_loss_list = []\n",
        "    valid_loss_list = []\n",
        "    best_valid_loss = float('Inf')\n",
        "    global_step = 0\n",
        "    global_steps_list = []\n",
        "\n",
        "    model.train()\n",
        "\n",
        "    # Training loop\n",
        "    for epoch in range(num_epochs):\n",
        "        for (source, target), _ in trainiter:\n",
        "            mask = (source != PAD_INDEX).type(torch.uint8)\n",
        "\n",
        "            logits = model(input_ids=source,\n",
        "                           attention_mask=mask)\n",
        "\n",
        "            y_pred = torch.max(logits, dim=-1)[1]\n",
        "            loss = torch.nn.CrossEntropyLoss()(logits, target)\n",
        "            loss.backward()\n",
        "            # Optimizer and scheduler step\n",
        "            optimizer.step()\n",
        "            scheduler.step()\n",
        "            optimizer.zero_grad()\n",
        "\n",
        "            # Update train loss and global step\n",
        "            train_loss += loss.item()\n",
        "            global_step += 1\n",
        "\n",
        "            # Validation loop to save progress and evaluate model performance\n",
        "            if global_step % valid_period == 0:\n",
        "                model.eval()\n",
        "\n",
        "                with torch.no_grad():\n",
        "                    for (source, target), _ in validiter:\n",
        "                        mask = (source != PAD_INDEX).type(torch.uint8)\n",
        "\n",
        "                        logits = model(input_ids=source,\n",
        "                                       attention_mask=mask)\n",
        "\n",
        "                        y_pred = torch.max(logits, dim=-1)[1]\n",
        "                        loss = torch.nn.CrossEntropyLoss()(logits, target)\n",
        "                        valid_loss += loss.item()\n",
        "\n",
        "                # Store train and validation loss history\n",
        "                train_loss = train_loss / valid_period\n",
        "                valid_loss = valid_loss / len(validiter)\n",
        "                train_loss_list.append(train_loss)\n",
        "                valid_loss_list.append(valid_loss)\n",
        "                global_steps_list.append(global_step)\n",
        "\n",
        "                # print summary\n",
        "                print(\"Epoch [{}/{}], global step [{}/{}], Train Loss: {:.4f}, Valid Loss: {:.4f}\"\n",
        "                      .format(epoch+1, num_epochs, global_step, num_epochs*len(trainiter),\n",
        "                              train_loss, valid_loss))\n",
        "\n",
        "                # saving best model checkpoint\n",
        "                if best_valid_loss > valid_loss:\n",
        "                    best_valid_loss = valid_loss\n",
        "                    save_checkpoint(output_path + 'model.pkl', model, best_valid_loss)\n",
        "                    save_metrics(output_path + 'metric.pkl', train_loss_list, valid_loss_list, global_steps_list)\n",
        "\n",
        "                train_loss = 0.0\n",
        "                valid_loss = 0.0\n",
        "\n",
        "                model.train()\n",
        "\n",
        "    save_metrics(output_path + 'metric.pkl', train_loss_list, valid_loss_list, global_steps_list)\n",
        "    print(\"training done!\")"
      ]
    },
    {
      "cell_type": "code",
      "execution_count": null,
      "metadata": {
        "colab": {
          "base_uri": "https://localhost:8080/",
          "height": 467
        },
        "id": "WXPdc9mEoMEc",
        "outputId": "b0b0beb0-763e-483b-dde5-8b0bf8d74d3b"
      },
      "outputs": [],
      "source": [
        "#main training loop\n",
        "#different learning rates for pretraining and training optimizer\n",
        "NUM_EPOCHS = 9\n",
        "\n",
        "steps_per_epoch = len(trainiter)\n",
        "\n",
        "model = SciBERTClassifier(0.4)\n",
        "model = model.to(device)\n",
        "\n",
        "optimizer = AdamW(model.parameters(), lr=1e-4)\n",
        "scheduler = get_linear_schedule_with_warmup(optimizer,\n",
        "                                            num_warmup_steps=steps_per_epoch*1,\n",
        "                                            num_training_steps=steps_per_epoch*NUM_EPOCHS)\n",
        "\n",
        "print(\"Start Pretraining!\")\n",
        "\n",
        "pretrain(model=model,\n",
        "         trainiter=trainiter,\n",
        "         validiter=validiter,\n",
        "         optimizer=optimizer,\n",
        "         scheduler=scheduler,\n",
        "         num_epochs=NUM_EPOCHS)\n",
        "\n",
        "NUM_EPOCHS = 9\n",
        "print(\"Start Training!\")\n",
        "optimizer = AdamW(model.parameters(), lr=2e-6)\n",
        "scheduler = get_linear_schedule_with_warmup(optimizer, num_warmup_steps=steps_per_epoch*2,\n",
        "                                            num_training_steps=steps_per_epoch*NUM_EPOCHS)\n",
        "\n",
        "train(model=model,\n",
        "      trainiter=trainiter,\n",
        "      validiter=validiter,\n",
        "      optimizer=optimizer,\n",
        "      scheduler=scheduler,\n",
        "      num_epochs=NUM_EPOCHS)"
      ]
    },
    {
      "cell_type": "code",
      "execution_count": null,
      "metadata": {
        "colab": {
          "base_uri": "https://localhost:8080/",
          "height": 501
        },
        "id": "NHMconU_oUjw",
        "outputId": "e96678d2-f1f7-4640-aa6a-49972a20267d"
      },
      "outputs": [
        {
          "data": {
            "image/png": "[encoded data removed]",
            "text/plain": [
              "<Figure size 720x576 with 1 Axes>"
            ]
          },
          "metadata": {},
          "output_type": "display_data"
        }
      ],
      "source": [
        "plt.figure(figsize=(10, 8))\n",
        "train_loss_list, valid_loss_list, global_steps_list = load_metrics(output_path + 'metric.pkl')\n",
        "plt.plot(global_steps_list, train_loss_list, label='Train')\n",
        "plt.plot(global_steps_list, valid_loss_list, label='Valid')\n",
        "plt.xlabel('Global Steps', fontsize=14)\n",
        "plt.ylabel('Loss', fontsize=14)\n",
        "plt.legend(fontsize=14)\n",
        "plt.show()"
      ]
    },
    {
      "cell_type": "code",
      "execution_count": null,
      "metadata": {
        "id": "DavU6a1foaBp"
      },
      "outputs": [],
      "source": [
        "# Evaluation Function to look at class accuracies\n",
        "\n",
        "def evaluate(model, val_loader):\n",
        "    y_pred = []\n",
        "    y_true = []\n",
        "\n",
        "    model.eval()\n",
        "    with torch.no_grad():\n",
        "        for (source, target), _ in val_loader:\n",
        "                mask = (source != PAD_INDEX).type(torch.uint8)\n",
        "\n",
        "                output = model(source, attention_mask=mask)\n",
        "\n",
        "                preds= torch.max(output, axis=-1)[1]\n",
        "                y_pred += preds.tolist()\n",
        "                y_true += target.tolist()\n",
        "\n",
        "    print('Classification Report:')\n",
        "    print(classification_report(y_true, y_pred, labels=range(20), digits=4))\n",
        "\n",
        "    plt.figure(figsize=(15, 15))\n",
        "    cm = confusion_matrix(y_true, y_pred, labels=range(20))\n",
        "    ax = plt.subplot()\n",
        "    sns.heatmap(cm, annot=True, ax = ax, cmap=\"YlGnBu\", fmt=\"d\")\n",
        "    ax.set_title('Confusion Matrix')\n",
        "    ax.set_xlabel('Predicted Labels')\n",
        "    ax.set_ylabel('True Labels')\n",
        "    ax.xaxis.set_ticklabels(range(20))\n",
        "    ax.yaxis.set_ticklabels(range(20))"
      ]
    },
    {
      "cell_type": "code",
      "execution_count": null,
      "metadata": {
        "colab": {
          "base_uri": "https://localhost:8080/",
          "height": 1000
        },
        "id": "NyPT5XR1odRc",
        "outputId": "0351c94a-1054-48d5-c14f-bbec1c7962c0"
      },
      "outputs": [
        {
          "name": "stderr",
          "output_type": "stream",
          "text": [
            "Some weights of the model checkpoint at allenai/scibert_scivocab_uncased were not used when initializing BertModel: ['cls.predictions.transform.dense.bias', 'cls.predictions.transform.dense.weight', 'cls.predictions.transform.LayerNorm.weight', 'cls.predictions.bias', 'cls.predictions.decoder.weight', 'cls.predictions.transform.LayerNorm.bias', 'cls.seq_relationship.bias', 'cls.predictions.decoder.bias', 'cls.seq_relationship.weight']\n",
            "- This IS expected if you are initializing BertModel from the checkpoint of a model trained on another task or with another architecture (e.g. initializing a BertForSequenceClassification model from a BertForPreTraining model).\n",
            "- This IS NOT expected if you are initializing BertModel from the checkpoint of a model that you expect to be exactly identical (initializing a BertForSequenceClassification model from a BertForSequenceClassification model).\n"
          ]
        },
        {
          "name": "stdout",
          "output_type": "stream",
          "text": [
            "Classification Report:\n",
            "              precision    recall  f1-score   support\n",
            "\n",
            "           0     0.6667    0.4835    0.5605        91\n",
            "           1     0.7895    0.1339    0.2290       112\n",
            "           2     0.8446    0.8712    0.8577       792\n",
            "           3     0.6400    0.6687    0.6540       335\n",
            "           4     0.8017    0.8895    0.8433       959\n",
            "           5     0.7938    0.8275    0.8103       800\n",
            "           6     0.6037    0.6221    0.6128       262\n",
            "           7     0.6364    0.0761    0.1359        92\n",
            "           8     0.8591    0.8845    0.8716      1013\n",
            "           9     0.8538    0.8575    0.8556       463\n",
            "          10     0.7736    0.7966    0.7849      1278\n",
            "          11     0.0000    0.0000    0.0000       124\n",
            "          12     0.0000    0.0000    0.0000         5\n",
            "          13     0.7322    0.6907    0.7109       388\n",
            "          14     0.8022    0.7374    0.7684        99\n",
            "          15     1.0000    0.3134    0.4773        67\n",
            "          16     0.9409    0.9701    0.9552      4444\n",
            "          17     0.8571    0.1364    0.2353        88\n",
            "          18     0.7350    0.7288    0.7319       118\n",
            "          19     0.7409    0.8638    0.7976       470\n",
            "\n",
            "    accuracy                         0.8455     12000\n",
            "   macro avg     0.7035    0.5776    0.5946     12000\n",
            "weighted avg     0.8358    0.8455    0.8332     12000\n",
            "\n"
          ]
        },
        {
          "data": {
            "image/png": "[encoded data removed]",
            "text/plain": [
              "<Figure size 1080x1080 with 2 Axes>"
            ]
          },
          "metadata": {},
          "output_type": "display_data"
        }
      ],
      "source": [
        "model = SciBERTClassifier()\n",
        "model = model.to(device)\n",
        "\n",
        "load_checkpoint(output_path + 'model.pkl', model)\n",
        "\n",
        "evaluate(model, validiter)"
      ]
    },
    {
      "cell_type": "code",
      "execution_count": null,
      "metadata": {
        "id": "Phz98tZJoeb8"
      },
      "outputs": [],
      "source": [
        "test = pd.read_csv(f\"{output_path}prep_test.csv\")"
      ]
    },
    {
      "cell_type": "code",
      "execution_count": null,
      "metadata": {
        "id": "M4UViz3EC-q_"
      },
      "outputs": [],
      "source": [
        "#Submission function\n",
        "def get_submission(model, test_loader, test_ids):\n",
        "    all_preds=[]\n",
        "    model.eval()\n",
        "    with torch.no_grad():\n",
        "      for (source, target), _ in test_loader:\n",
        "                mask = (source != PAD_INDEX).type(torch.uint8)\n",
        "\n",
        "                output = model(source, attention_mask=mask)\n",
        "                preds= torch.max(output, axis=-1)[1]\n",
        "                all_preds += preds.tolist()\n",
        "                #print(len(all_preds))\n",
        "    #test dataframe with prediction()\n",
        "    df= pd.DataFrame({\n",
        "        \"id\" : test_ids.values,\n",
        "        \"label\" : np.array(all_preds)\n",
        "    })\n",
        "\n",
        "    df.to_csv(f\"submission.csv\",index=False)"
      ]
    },
    {
      "cell_type": "code",
      "execution_count": null,
      "metadata": {
        "id": "b8ORjwscoh4z"
      },
      "outputs": [],
      "source": [
        "get_submission(model,test_iter, test['node idx'])"
      ]
    },
    {
      "cell_type": "code",
      "execution_count": null,
      "metadata": {
        "colab": {
          "base_uri": "https://localhost:8080/"
        },
        "id": "1RjAOVWxoiXI",
        "outputId": "61561cdc-50c6-4330-a10b-602d23219ebf"
      },
      "outputs": [
        {
          "name": "stdout",
          "output_type": "stream",
          "text": [
            "100% 128k/128k [00:02<00:00, 52.9kB/s]\n",
            "Successfully submitted to Math80600A W22 HWK2"
          ]
        }
      ],
      "source": [
        "!kaggle competitions submit -c math80600a-2022w -f submission.csv -m \"SciBERT\""
      ]
    }
  ],
  "metadata": {
    "accelerator": "GPU",
    "colab": {
      "provenance": []
    },
    "kernelspec": {
      "display_name": "Python 3",
      "name": "python3"
    },
    "language_info": {
      "name": "python"
    }
  },
  "nbformat": 4,
  "nbformat_minor": 0
}
